{
 "cells": [
  {
   "cell_type": "code",
   "execution_count": 4,
   "id": "448a63be-f385-4aaf-8a4d-31ee7c3ddf86",
   "metadata": {},
   "outputs": [
    {
     "name": "stdin",
     "output_type": "stream",
     "text": [
      "Enter the number of students:  2\n",
      "Enter Student Name: shravani\n",
      "Enter student marks:  340\n",
      "Enter Student Name: sarvesh\n",
      "Enter student marks:  340\n"
     ]
    },
    {
     "name": "stdout",
     "output_type": "stream",
     "text": [
      "{'shravani': 340, 'sarvesh': 340}\n"
     ]
    },
    {
     "name": "stdin",
     "output_type": "stream",
     "text": [
      "Enter Student name to get marks:  shravani\n"
     ]
    },
    {
     "name": "stdout",
     "output_type": "stream",
     "text": [
      "The marks of shravani: 340\n"
     ]
    },
    {
     "name": "stdin",
     "output_type": "stream",
     "text": [
      "Do you want to find another student marks?[Yes|No]:  Yes\n",
      "Enter Student name to get marks:  sarvesh\n"
     ]
    },
    {
     "name": "stdout",
     "output_type": "stream",
     "text": [
      "The marks of sarvesh: 340\n"
     ]
    },
    {
     "name": "stdin",
     "output_type": "stream",
     "text": [
      "Do you want to find another student marks?[Yes|No]:  Yes\n",
      "Enter Student name to get marks:  diya\n"
     ]
    },
    {
     "name": "stdout",
     "output_type": "stream",
     "text": [
      "Student not found\n"
     ]
    },
    {
     "name": "stdin",
     "output_type": "stream",
     "text": [
      "Do you want to find another student marks?[Yes|No]:  No\n"
     ]
    },
    {
     "name": "stdout",
     "output_type": "stream",
     "text": [
      "Thanks for using our application.\n"
     ]
    }
   ],
   "source": [
    "n = int(input(\"Enter the number of students: \"))\n",
    "d={}\n",
    "for i in range(n):\n",
    "    name = input(\"Enter Student Name:\")\n",
    "    marks = int(input(\"Enter student marks: \"))\n",
    "    d[name] = marks\n",
    "print(d)\n",
    "\n",
    "while True:\n",
    "    name = input(\"Enter Student name to get marks: \")\n",
    "    marks = d.get(name,-1)\n",
    "    if marks == -1:\n",
    "        print(\"Student not found\")\n",
    "    else:\n",
    "        print(f\"The marks of {name}: {marks}\")\n",
    "    option = input(\"Do you want to find another student marks?[Yes|No]: \")\n",
    "    if option == \"No\":\n",
    "        break\n",
    "print(\"Thanks for using our application.\")"
   ]
  },
  {
   "cell_type": "code",
   "execution_count": null,
   "id": "0667e882-dec3-48fb-a62c-25867bdcbf82",
   "metadata": {},
   "outputs": [],
   "source": []
  }
 ],
 "metadata": {
  "kernelspec": {
   "display_name": "Python 3 (ipykernel)",
   "language": "python",
   "name": "python3"
  },
  "language_info": {
   "codemirror_mode": {
    "name": "ipython",
    "version": 3
   },
   "file_extension": ".py",
   "mimetype": "text/x-python",
   "name": "python",
   "nbconvert_exporter": "python",
   "pygments_lexer": "ipython3",
   "version": "3.11.5"
  },
  "widgets": {
   "application/vnd.jupyter.widget-state+json": {
    "state": {},
    "version_major": 2,
    "version_minor": 0
   }
  }
 },
 "nbformat": 4,
 "nbformat_minor": 5
}
